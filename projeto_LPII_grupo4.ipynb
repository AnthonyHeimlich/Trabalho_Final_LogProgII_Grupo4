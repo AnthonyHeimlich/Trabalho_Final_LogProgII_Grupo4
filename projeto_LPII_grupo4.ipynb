{
  "cells": [
    {
      "cell_type": "markdown",
      "metadata": {
        "id": "QcN62PrTNuNr"
      },
      "source": [
        "# Projeto Final | Sistema de Controle Financeiro"
      ]
    },
    {
      "cell_type": "markdown",
      "metadata": {},
      "source": [
        "%----------------------------------------------------------------------------%<br>\n",
        "<br>\n",
        "``Autores:`` Andrea Elias, Anthony Heimlich, Éverton Donato, Julia Midori e Luana Kruger  <br>\n",
        "<br>\n",
        "``Instituição:`` ADA Tech<br>\n",
        "<br>\n",
        "``Projeto:`` Santander Coders 2023.2<br>\n",
        "<br>\n",
        "``Descrição:`` Este código desenvolve um sistema para controle financeiro que receba as movimentações e as armazena em um arquivo csv ou json.<br>\n",
        "<br>\n",
        "``Repositório GitHub:`` https://github.com/JuliaMidoriRW/Trabalho_Final_LogProgII_Grupo4 <br>\n",
        "<br>\n",
        "\n",
        "%----------------------------------------------------------------------------%"
      ]
    },
    {
      "cell_type": "markdown",
      "metadata": {},
      "source": [
        "# Carregar bibliotecas e lista de registros"
      ]
    },
    {
      "cell_type": "code",
      "execution_count": null,
      "metadata": {},
      "outputs": [],
      "source": [
        "from datetime import datetime\n",
        "# import json\n",
        "\n",
        "registros = []"
      ]
    },
    {
      "cell_type": "markdown",
      "metadata": {},
      "source": [
        "# Carregar funções"
      ]
    },
    {
      "cell_type": "code",
      "execution_count": null,
      "metadata": {},
      "outputs": [],
      "source": [
        "def criar_registro(tipo, valor, data):\n",
        "    \"\"\"Criar novos registros e identificar a data que o registro foi feito, qual tipo de movimentação, valor\n",
        "\n",
        "    Parameters\n",
        "    ----------\n",
        "    tipo: string\n",
        "        Tipo da movimentação realizada. Os tipos podem ser:\n",
        "            - Receita (valor numérico e armazenado normalmente), \n",
        "            - Despesas (valor positivo, mas armazenado como negativo),\n",
        "            - Investimento (tem a informação de 'Montante' - calcular quanto o dinheiro rendeu desde o dia que foi investido)\n",
        "\n",
        "    valor: float\n",
        "        Valor do registro\n",
        "    data: datetime\n",
        "        Data do registro\n",
        "\n",
        "    Returns\n",
        "    -------\n",
        "\n",
        "    \"\"\"\n",
        "\n",
        "    data_registro = datetime.strptime(data, \"%d/%m/%Y\").date()\n",
        "    dia, mes, ano = data_registro.day, data_registro.month, data_registro.year\n",
        "\n",
        "    if tipo == 'Receita':\n",
        "        valor = float(valor)\n",
        "        montante = 0\n",
        "    elif tipo == 'Despesas':\n",
        "        valor = -float(valor)\n",
        "        montante = 0\n",
        "    elif tipo == 'Investimento':\n",
        "        valor = float(valor)\n",
        "        montante = valor * (1 + 0.02) ** ((datetime.now().date() - data_registro).days) - valor\n",
        "    else:\n",
        "        raise ValueError(\"Tipo de movimentação inválida.\")\n",
        "\n",
        "    registro = {'tipo': tipo, 'valor': valor, 'dia': dia, 'mes': mes, 'ano': ano, 'montante': montante}\n",
        "    registros.append(registro)\n",
        "\n",
        "\n",
        "#     movimento = {\n",
        "#         \"tipo\": tipo,\n",
        "#         \"valor\": valor if tipo == \"Receita\" else -valor,\n",
        "#         \"data\": data,\n",
        "#     }\n",
        "\n",
        "#     if tipo == \"Investimento\":\n",
        "#         montante = calcula_rendimento(valor, data)\n",
        "#         movimento[\"montante\"] = montante\n",
        "\n",
        "#     registros.append(movimento)"
      ]
    },
    {
      "cell_type": "code",
      "execution_count": null,
      "metadata": {},
      "outputs": [],
      "source": [
        "def ler_registros(chave, valor):\n",
        "    \"\"\"Consultar os registros por data, tipo ou valor\n",
        "\n",
        "    Parameters\n",
        "    ----------\n",
        "\n",
        "\n",
        "    Returns\n",
        "    -------\n",
        "\n",
        "    \"\"\"\n",
        "    \n",
        "\n",
        "\n"
      ]
    },
    {
      "cell_type": "code",
      "execution_count": null,
      "metadata": {},
      "outputs": [],
      "source": [
        "def atualizar_registro(indice, tipo, valor, data):\n",
        "    \"\"\"Atualiza o valor e o tipo do registro, a data deverá ser a de atualização do registro\n",
        "\n",
        "    Parameters\n",
        "    ----------\n",
        "\n",
        "\n",
        "    Returns\n",
        "    -------\n",
        "\n",
        "    \"\"\"\n",
        "\n",
        "    # movimento = registros[indice]\n",
        "    # movimento[\"tipo\"] = tipo\n",
        "    # movimento[\"valor\"] = valor if tipo == \"Receita\" else -valor\n",
        "    # movimento[\"data\"] = data"
      ]
    },
    {
      "cell_type": "code",
      "execution_count": null,
      "metadata": {},
      "outputs": [],
      "source": [
        "def deletar_registro(indice):\n",
        "    \"\"\"Deletar o registro.\n",
        "\n",
        "    Parameters\n",
        "    ----------\n",
        "    indice: int\n",
        "        Indice do registro que será deletado:\n",
        "\n",
        "    Returns\n",
        "    -------\n",
        "\n",
        "    \"\"\"\n",
        "    \n",
        "    del registros[indice]"
      ]
    },
    {
      "cell_type": "code",
      "execution_count": null,
      "metadata": {},
      "outputs": [],
      "source": [
        "def atualiza_rendimento():\n",
        "    \"\"\"Atualiza os valores de rendimento sempre que chamada\n",
        "\n",
        "    Parameters\n",
        "    ----------\n",
        "\n",
        "    Returns\n",
        "    -------\n",
        "\n",
        "    \"\"\"\n",
        "    \n",
        "    for movimento in registros:\n",
        "        if movimento[\"tipo\"] == \"Investimento\":\n",
        "            valor_inicial = -movimento[\"valor\"]\n",
        "            data_investimento = datetime.strptime(movimento[\"data\"], \"%Y-%m-%d\")\n",
        "            movimento[\"montante\"] = calcula_rendimento(valor_inicial, data_investimento)"
      ]
    },
    {
      "cell_type": "code",
      "execution_count": null,
      "metadata": {},
      "outputs": [],
      "source": [
        "def exportar_relatorio(formato):\n",
        "    \"\"\"Exportar um relatorio final em csv ou json\n",
        "\n",
        "    Parameters\n",
        "    ----------\n",
        "    formato: string\n",
        "        Formato do relatório exportado ('.csv' ou '.json')\n",
        "\n",
        "    Returns\n",
        "    -------\n",
        "\n",
        "    \"\"\"\n",
        "    \n",
        "    if formato == \"csv\":\n",
        "        with open(\"relatorio.csv\", \"w\") as file:\n",
        "            file.write(\"Tipo,Valor,Data,Montante\\n\")\n",
        "            for movimento in registros:\n",
        "                file.write(\n",
        "                    f\"{movimento['tipo']},{movimento['valor']},{movimento['data']},{movimento.get('montante', 0)}\\n\"\n",
        "                )\n",
        "    elif formato == \"json\":\n",
        "        with open(\"relatorio.json\", \"w\") as file:\n",
        "            json.dump(registros, file, indent=2)"
      ]
    },
    {
      "cell_type": "code",
      "execution_count": null,
      "metadata": {},
      "outputs": [],
      "source": [
        "def agrupar_por(chave):\n",
        "    \"\"\"Função de agrupamento capaz de mostrar o total de valor baseado em alguma informação (mes, tipo...)\n",
        "\n",
        "    Parameters\n",
        "    ----------\n",
        "    chave: string\n",
        "        Informação base para o agrupamento ('tipo', 'mes', 'ano', 'data')\n",
        "\n",
        "    Returns\n",
        "    -------\n",
        "    resultado: dict\n",
        "        Dicionário com o registro agrupado por chave\n",
        "\n",
        "    \"\"\"\n",
        "        \n",
        "    resultado = {}\n",
        "    for movimento in registros:\n",
        "        valor = movimento[\"valor\"]\n",
        "        if chave == \"tipo\":\n",
        "            chave_valor = movimento[\"tipo\"]\n",
        "        elif chave == \"mes\":\n",
        "            chave_valor = movimento[\"data\"].split(\"-\")[1]\n",
        "        elif chave == \"ano\":\n",
        "            chave_valor = movimento[\"data\"].split(\"-\")[0]\n",
        "        else:\n",
        "            chave_valor = movimento[\"data\"]\n",
        "\n",
        "        resultado[chave_valor] = resultado.get(chave_valor, 0) + valor\n",
        "\n",
        "    return resultado"
      ]
    },
    {
      "cell_type": "code",
      "execution_count": 1,
      "metadata": {},
      "outputs": [],
      "source": [
        "def calcula_rendimento(valor, data):\n",
        "    \"\"\"Calcular montante.\n",
        "\n",
        "    Parameters\n",
        "    ----------\n",
        "    valor: float\n",
        "        valor do registro\n",
        "    data: datetime\n",
        "        data do registro\n",
        "\n",
        "    Returns\n",
        "    -------\n",
        "    montante: float\n",
        "        valor do rendimento\n",
        "\n",
        "    \"\"\"\n",
        "\n",
        "    hoje = datetime.now()\n",
        "    dias = (hoje - data).days\n",
        "    taxa = 0.01  # Exemplo: taxa de rendimento diária (1%)\n",
        "    montante = valor * (1 + taxa) ** dias\n",
        "\n",
        "    return montante"
      ]
    },
    {
      "cell_type": "markdown",
      "metadata": {},
      "source": [
        "# Testes executados"
      ]
    },
    {
      "cell_type": "markdown",
      "metadata": {},
      "source": [
        "### Criar registro"
      ]
    },
    {
      "cell_type": "code",
      "execution_count": 2,
      "metadata": {},
      "outputs": [],
      "source": [
        "criar_registro(\"Receita\", 100, \"2022-01-01\")\n",
        "criar_registro(\"Despesa\", 50, \"2022-01-02\")\n",
        "criar_registro(\"Investimento\", 200, datetime(2022, 1, 3))"
      ]
    },
    {
      "cell_type": "markdown",
      "metadata": {},
      "source": [
        "### Atualizar registro"
      ]
    },
    {
      "cell_type": "code",
      "execution_count": null,
      "metadata": {},
      "outputs": [],
      "source": [
        "atualizar_registro(0, \"Receita\", 150, \"2022-01-05\")\n",
        "\n",
        "print(\"Registros por tipo:\", ler_registros(\"tipo\", \"Receita\"))\n",
        "# print(\"Registros por data:\", ler_registros(\"data\", \"2022-01-02\"))"
      ]
    },
    {
      "cell_type": "markdown",
      "metadata": {},
      "source": [
        "### Deletar registro"
      ]
    },
    {
      "cell_type": "code",
      "execution_count": null,
      "metadata": {},
      "outputs": [],
      "source": [
        "deletar_registro(1)"
      ]
    },
    {
      "cell_type": "markdown",
      "metadata": {},
      "source": [
        "### Atualizar rendimento"
      ]
    },
    {
      "cell_type": "code",
      "execution_count": null,
      "metadata": {},
      "outputs": [],
      "source": [
        "atualiza_rendimento()"
      ]
    },
    {
      "cell_type": "markdown",
      "metadata": {},
      "source": [
        "### Exportar relatorio .CSV"
      ]
    },
    {
      "cell_type": "code",
      "execution_count": null,
      "metadata": {},
      "outputs": [],
      "source": [
        "exportar_relatorio(\"csv\")\n",
        "# exportar_relatorio(\"json\")"
      ]
    },
    {
      "cell_type": "markdown",
      "metadata": {},
      "source": [
        "### Agrupar por tipo"
      ]
    },
    {
      "cell_type": "code",
      "execution_count": 4,
      "metadata": {},
      "outputs": [
        {
          "name": "stdout",
          "output_type": "stream",
          "text": [
            "Registros por tipo: [{'tipo': 'Receita', 'valor': 150, 'data': '2022-01-05'}]\n",
            "Agrupado por tipo: {'Receita': 150}\n",
            "Agrupado por mês: {'01': 150}\n",
            "Agrupado por ano: {'2022': 150}\n",
            "Agrupado por data: {'2022-01-05': 150}\n"
          ]
        }
      ],
      "source": [
        "print(\"Agrupado por tipo:\", agrupar_por(\"tipo\"))\n",
        "print(\"Agrupado por mês:\", agrupar_por(\"mes\"))\n",
        "print(\"Agrupado por ano:\", agrupar_por(\"ano\"))\n",
        "print(\"Agrupado por data:\", agrupar_por(\"data\"))"
      ]
    }
  ],
  "metadata": {
    "colab": {
      "private_outputs": true,
      "provenance": []
    },
    "kernelspec": {
      "display_name": "Python 3",
      "language": "python",
      "name": "python3"
    },
    "language_info": {
      "codemirror_mode": {
        "name": "ipython",
        "version": 3
      },
      "file_extension": ".py",
      "mimetype": "text/x-python",
      "name": "python",
      "nbconvert_exporter": "python",
      "pygments_lexer": "ipython3",
      "version": "3.9.13"
    }
  },
  "nbformat": 4,
  "nbformat_minor": 0
}
