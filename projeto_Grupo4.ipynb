{
  "cells": [
    {
      "cell_type": "markdown",
      "metadata": {
        "id": "QcN62PrTNuNr"
      },
      "source": [
        "# Projeto Final | Sistema de Controle Financeiro"
      ]
    },
    {
      "cell_type": "markdown",
      "metadata": {},
      "source": [
        "%----------------------------------------------------------------------------%<br>\n",
        "<br>\n",
        "``Autores:`` Andrea Elias, Anthony Heimlich, Éverton Donato, Julia Midori e Luana Kruger  <br>\n",
        "<br>\n",
        "``Instituição:`` ADA Tech<br>\n",
        "<br>\n",
        "``Projeto:`` Santander Coders 2023.2<br>\n",
        "<br>\n",
        "``Descrição:`` Este código desenvolve um sistema para controle financeiro que receba as movimentações e as armazena em um arquivo csv ou json.<br>\n",
        "<br>\n",
        "``Repositório GitHub:`` https://github.com/JuliaMidoriRW/Trabalho_Final_LogProgII_Grupo4 <br>\n",
        "<br>\n",
        "\n",
        "%----------------------------------------------------------------------------%"
      ]
    },
    {
      "cell_type": "markdown",
      "metadata": {},
      "source": [
        "# Carregar bibliotecas e lista de registros"
      ]
    },
    {
      "cell_type": "code",
      "execution_count": 32,
      "metadata": {},
      "outputs": [],
      "source": [
        "from datetime import datetime\n",
        "# import json\n",
        "\n",
        "registros = []"
      ]
    },
    {
      "cell_type": "markdown",
      "metadata": {},
      "source": [
        "# Carregar funções"
      ]
    },
    {
      "cell_type": "code",
      "execution_count": 33,
      "metadata": {},
      "outputs": [],
      "source": [
        "def criar_registro(tipo, valor, data):\n",
        "    \"\"\"Criar novos registros e identificar a data que o registro foi feito, qual tipo de movimentação, valor\n",
        "\n",
        "    Parameters\n",
        "    ----------\n",
        "    tipo: string\n",
        "        Tipo da movimentação realizada. Os tipos podem ser:\n",
        "            - Receita (valor numérico e armazenado normalmente), \n",
        "            - Despesas (valor positivo, mas armazenado como negativo),\n",
        "            - Investimento (tem a informação de 'Montante' - calcular quanto o dinheiro rendeu desde o dia que foi investido)\n",
        "\n",
        "    valor: float\n",
        "        Valor do registro\n",
        "    data: datetime\n",
        "        Data do registro\n",
        "\n",
        "    Returns\n",
        "    -------\n",
        "\n",
        "    \"\"\"\n",
        "\n",
        "    data_registro = datetime.strptime(data, \"%Y-%m-%d\").date()\n",
        "    dia, mes, ano = data_registro.day, data_registro.month, data_registro.year\n",
        "    montante = 0\n",
        "\n",
        "    if tipo == 'Receita':\n",
        "        valor = float(valor)\n",
        "    elif tipo == 'Despesa':\n",
        "        valor = -float(valor)\n",
        "    elif tipo == 'Investimento':\n",
        "        valor = float(valor)\n",
        "        montante = valor * (1 + 0.02) ** ((datetime.now().date() - data_registro).days) - valor\n",
        "    else:\n",
        "        raise ValueError(\"Tipo de movimentação inválida.\")\n",
        "    \n",
        "    registro = {'tipo': tipo, 'valor': valor, 'dia': dia, 'mes': mes, 'ano': ano}\n",
        "\n",
        "    if montante > 0:\n",
        "        registro['montante'] = montante\n",
        "        \n",
        "    registros.append(registro)\n",
        "\n",
        "#     movimento = {\n",
        "#         \"tipo\": tipo,\n",
        "#         \"valor\": valor if tipo == \"Receita\" else -valor,\n",
        "#         \"data\": data,\n",
        "#     }\n",
        "\n",
        "#     if tipo == \"Investimento\":\n",
        "#         montante = calcula_rendimento(valor, data)\n",
        "#         movimento[\"montante\"] = montante\n",
        "\n",
        "#     registros.append(movimento)"
      ]
    },
    {
      "cell_type": "code",
      "execution_count": 34,
      "metadata": {},
      "outputs": [],
      "source": [
        "def ler_registros(chave,valor):\n",
        "    \"\"\"Consultar os registros por data, tipo ou valor\n",
        "\n",
        "    Parameters\n",
        "    ----------\n",
        "\n",
        "\n",
        "    Returns\n",
        "    -------\n",
        "\n",
        "    \"\"\"\n",
        "\n",
        "    resultado = []\n",
        "\n",
        "    for movimento in registros:\n",
        "        if chave != \"data\":\n",
        "            if movimento[chave] == valor:\n",
        "                resultado.append(movimento)\n",
        "        else:\n",
        "            data_registro = datetime.strptime(valor, \"%Y-%m-%d\").date()\n",
        "            dia, mes, ano = data_registro.day, data_registro.month, data_registro.year\n",
        "            if movimento[\"dia\"] == dia and movimento[\"mes\"] == mes and movimento[\"ano\"] == ano:\n",
        "                resultado.append(movimento)\n",
        "\n",
        "    return resultado\n"
      ]
    },
    {
      "cell_type": "code",
      "execution_count": 35,
      "metadata": {},
      "outputs": [],
      "source": [
        "def calcula_rendimento(valor, data):\n",
        "    \"\"\"Calcular montante.\n",
        "\n",
        "    Parameters\n",
        "    ----------\n",
        "    valor: float\n",
        "        valor do registro\n",
        "    data: datetime\n",
        "        data do registro\n",
        "\n",
        "    Returns\n",
        "    -------\n",
        "    montante: float\n",
        "        valor do rendimento\n",
        "\n",
        "    \"\"\"\n",
        "\n",
        "    data_registro = datetime.strptime(data, \"%Y-%m-%d\").date()\n",
        "    data_agora = datetime.now().date()\n",
        "\n",
        "    dias = (data_agora - data_registro).days\n",
        "    taxa = 0.01  # Exemplo: taxa de rendimento diária (1%)\n",
        "    montante = valor * (1 + taxa) ** dias\n",
        "\n",
        "    return montante"
      ]
    },
    {
      "cell_type": "code",
      "execution_count": 36,
      "metadata": {},
      "outputs": [],
      "source": [
        "def atualizar_registro(indice, tipo, valor):\n",
        "    \"\"\"Atualiza o valor e o tipo do registro, a data deverá ser a de atualização do registro\n",
        "\n",
        "    Parameters\n",
        "    ----------\n",
        "\n",
        "\n",
        "    Returns\n",
        "    -------\n",
        "\n",
        "    \"\"\"\n",
        "    \n",
        "    if indice < len(registros):\n",
        "        registro = registros[indice]\n",
        "        if tipo:\n",
        "            registro['tipo'] = tipo\n",
        "        if valor:\n",
        "            registro['valor'] = valor\n",
        "            \n",
        "        data_agora = datetime.now()\n",
        "        dia, mes, ano = data_agora.day, data_agora.month, data_agora.year\n",
        "        registro['dia'], registro['mes'], registro['ano'] = dia, mes, ano\n",
        "\n",
        "        if registro['tipo'] == \"Investimento\":\n",
        "            registro['montante'] = calcula_rendimento(registro['valor'], f\"{ano}-{mes:02d}-{dia:02d}\")\n",
        "\n",
        "        \n",
        "\n",
        "    \n",
        "    # movimento = registros[indice]\n",
        "    # movimento[\"tipo\"] = tipo\n",
        "    # movimento[\"valor\"] = valor if tipo == \"Receita\" else -valor\n",
        "    # movimento[\"data\"] = data"
      ]
    },
    {
      "cell_type": "code",
      "execution_count": 37,
      "metadata": {},
      "outputs": [],
      "source": [
        "def deletar_registro(indice):\n",
        "    \"\"\"Deletar o registro.\n",
        "\n",
        "    Parameters\n",
        "    ----------\n",
        "    indice: int\n",
        "        Indice do registro que será deletado:\n",
        "\n",
        "    Returns\n",
        "    -------\n",
        "\n",
        "    \"\"\"\n",
        "    \n",
        "    del registros[indice]"
      ]
    },
    {
      "cell_type": "code",
      "execution_count": 38,
      "metadata": {},
      "outputs": [],
      "source": [
        "def atualiza_rendimento():\n",
        "    \"\"\"Atualiza os valores de rendimento sempre que chamada\n",
        "\n",
        "    Parameters\n",
        "    ----------\n",
        "\n",
        "    Returns\n",
        "    -------\n",
        "\n",
        "    \"\"\"\n",
        "    \n",
        "    for movimento in registros:\n",
        "        if movimento[\"tipo\"] == \"Investimento\":\n",
        "            valor_inicial = -movimento[\"valor\"]\n",
        "            concatenar = str(movimento['ano']) + '-' + str(movimento['mes']) + '-' + str(movimento['dia'])\n",
        "            data_investimento = datetime.strptime(concatenar, \"%Y-%m-%d\")\n",
        "            movimento[\"montante\"] = calcula_rendimento(valor_inicial, data_investimento.strftime(\"%Y-%m-%d\"))"
      ]
    },
    {
      "cell_type": "code",
      "execution_count": 39,
      "metadata": {},
      "outputs": [],
      "source": [
        "def exportar_relatorio(formato):\n",
        "    \"\"\"Exportar um relatorio final em csv ou json\n",
        "\n",
        "    Parameters\n",
        "    ----------\n",
        "    formato: string\n",
        "        Formato do relatório exportado ('.csv' ou '.json')\n",
        "\n",
        "    Returns\n",
        "    -------\n",
        "\n",
        "    \"\"\"\n",
        "    \n",
        "    if formato == \"csv\":\n",
        "        with open(\"relatorio.csv\", \"w\") as file:\n",
        "            file.write(\"Tipo,Valor,Data,Montante\\n\")\n",
        "            for movimento in registros:\n",
        "                file.write(\n",
        "                    f\"{movimento['tipo']},{movimento['valor']},{movimento['data']},{movimento.get('montante', 0)}\\n\"\n",
        "                )\n",
        "    elif formato == \"json\":\n",
        "        with open(\"relatorio.json\", \"w\") as file:\n",
        "            json.dump(registros, file, indent=2)"
      ]
    },
    {
      "cell_type": "code",
      "execution_count": 57,
      "metadata": {},
      "outputs": [],
      "source": [
        "import os\n",
        "\n",
        "def exportar_relatorio_csv2():\n",
        "\n",
        "    nome_arquivo = \"relatorio.csv\"\n",
        "\n",
        "    with open(nome_arquivo, \"w\") as file:\n",
        "        file.write(\"Tipo,Valor,Data,Montante\\n\")\n",
        "        for movimento in registros:\n",
        "            tipo = movimento.get('tipo', '')\n",
        "            valor = movimento.get('valor', '')\n",
        "            dia = movimento.get('dia', '')\n",
        "            mes = movimento.get('mes', '')\n",
        "            ano = movimento.get('ano', '')\n",
        "            montante = movimento.get('montante', 0)\n",
        "\n",
        "\n",
        "            data_formatada = f\"{ano}-{mes:02d}-{dia:02d}\"\n",
        "\n",
        "            file.write(f\"{tipo},{valor},{data_formatada},{montante}\\n\")\n",
        "\n",
        "    print(f\"Relatório exportado para {nome_arquivo}\")\n"
      ]
    },
    {
      "cell_type": "code",
      "execution_count": 41,
      "metadata": {},
      "outputs": [],
      "source": [
        "def agrupar_por(chave):\n",
        "    \"\"\"Função de agrupamento capaz de mostrar o total de valor baseado em alguma informação (mes, tipo...)\n",
        "\n",
        "    Parameters\n",
        "    ----------\n",
        "    chave: string\n",
        "        Informação base para o agrupamento ('tipo', 'mes', 'ano', 'data')\n",
        "\n",
        "    Returns\n",
        "    -------\n",
        "    resultado: dict\n",
        "        Dicionário com o registro agrupado por chave\n",
        "\n",
        "    \"\"\"\n",
        "        \n",
        "    resultado = {}\n",
        "    for movimento in registros:\n",
        "        valor = movimento[\"valor\"]\n",
        "        if chave == \"tipo\":\n",
        "            chave_valor = movimento[\"tipo\"]\n",
        "        elif chave == \"mes\":\n",
        "            chave_valor = movimento[\"data\"].split(\"-\")[1]\n",
        "        elif chave == \"ano\":\n",
        "            chave_valor = movimento[\"data\"].split(\"-\")[0]\n",
        "        else:\n",
        "            chave_valor = movimento[\"data\"]\n",
        "\n",
        "        resultado[chave_valor] = resultado.get(chave_valor, 0) + valor\n",
        "\n",
        "    return resultado"
      ]
    },
    {
      "cell_type": "markdown",
      "metadata": {},
      "source": [
        "# Testes executados"
      ]
    },
    {
      "cell_type": "markdown",
      "metadata": {},
      "source": [
        "### Criar registro"
      ]
    },
    {
      "cell_type": "code",
      "execution_count": 42,
      "metadata": {},
      "outputs": [
        {
          "data": {
            "text/plain": [
              "[{'tipo': 'Receita', 'valor': 100.0, 'dia': 1, 'mes': 1, 'ano': 2022},\n",
              " {'tipo': 'Despesa', 'valor': -50.0, 'dia': 2, 'mes': 1, 'ano': 2022},\n",
              " {'tipo': 'Investimento',\n",
              "  'valor': 200.0,\n",
              "  'dia': 3,\n",
              "  'mes': 1,\n",
              "  'ano': 2022,\n",
              "  'montante': 500676967.4017299},\n",
              " {'tipo': 'Receita', 'valor': 1000.0, 'dia': 1, 'mes': 1, 'ano': 2022},\n",
              " {'tipo': 'Despesa', 'valor': -90.0, 'dia': 2, 'mes': 1, 'ano': 2022},\n",
              " {'tipo': 'Investimento',\n",
              "  'valor': 200.0,\n",
              "  'dia': 3,\n",
              "  'mes': 5,\n",
              "  'ano': 2023,\n",
              "  'montante': 33565.60082818488},\n",
              " {'tipo': 'Receita', 'valor': 550.0, 'dia': 3, 'mes': 2, 'ano': 2023}]"
            ]
          },
          "execution_count": 42,
          "metadata": {},
          "output_type": "execute_result"
        }
      ],
      "source": [
        "criar_registro(\"Receita\", 100, \"2022-01-01\")\n",
        "criar_registro(\"Despesa\", 50, \"2022-01-02\")\n",
        "criar_registro(\"Investimento\", 200, \"2022-01-03\")\n",
        "criar_registro(\"Receita\", 1000, \"2022-01-01\")\n",
        "criar_registro(\"Despesa\", 90, \"2022-01-02\")\n",
        "criar_registro(\"Investimento\", 200, \"2023-05-03\")\n",
        "criar_registro(\"Receita\", 550, \"2023-02-03\")\n",
        "\n",
        "registros"
      ]
    },
    {
      "cell_type": "markdown",
      "metadata": {},
      "source": [
        "### Atualizar registro"
      ]
    },
    {
      "cell_type": "code",
      "execution_count": 43,
      "metadata": {},
      "outputs": [
        {
          "name": "stdout",
          "output_type": "stream",
          "text": [
            "Registros por tipo: [{'tipo': 'Receita', 'valor': 150, 'dia': 17, 'mes': 1, 'ano': 2024}, {'tipo': 'Receita', 'valor': 1000.0, 'dia': 1, 'mes': 1, 'ano': 2022}, {'tipo': 'Receita', 'valor': 550.0, 'dia': 3, 'mes': 2, 'ano': 2023}]\n"
          ]
        }
      ],
      "source": [
        "atualizar_registro(0, \"Receita\", 150)\n",
        "\n",
        "print(\"Registros por tipo:\", ler_registros(\"tipo\", \"Receita\"))\n",
        "# print(\"Registros por data:\", ler_registros(\"data\", \"2022-01-02\"))"
      ]
    },
    {
      "cell_type": "markdown",
      "metadata": {},
      "source": [
        "### Deletar registro"
      ]
    },
    {
      "cell_type": "code",
      "execution_count": 44,
      "metadata": {},
      "outputs": [],
      "source": [
        "deletar_registro(1)"
      ]
    },
    {
      "cell_type": "markdown",
      "metadata": {},
      "source": [
        "### Atualizar rendimento"
      ]
    },
    {
      "cell_type": "code",
      "execution_count": 45,
      "metadata": {},
      "outputs": [
        {
          "data": {
            "text/plain": [
              "[{'tipo': 'Receita', 'valor': 150, 'dia': 17, 'mes': 1, 'ano': 2024},\n",
              " {'tipo': 'Investimento',\n",
              "  'valor': 200.0,\n",
              "  'dia': 3,\n",
              "  'mes': 1,\n",
              "  'ano': 2022,\n",
              "  'montante': -328195.09793210885},\n",
              " {'tipo': 'Receita', 'valor': 1000.0, 'dia': 1, 'mes': 1, 'ano': 2022},\n",
              " {'tipo': 'Despesa', 'valor': -90.0, 'dia': 2, 'mes': 1, 'ano': 2022},\n",
              " {'tipo': 'Investimento',\n",
              "  'valor': 200.0,\n",
              "  'dia': 3,\n",
              "  'mes': 5,\n",
              "  'ano': 2023,\n",
              "  'montante': -2631.878312486224},\n",
              " {'tipo': 'Receita', 'valor': 550.0, 'dia': 3, 'mes': 2, 'ano': 2023}]"
            ]
          },
          "execution_count": 45,
          "metadata": {},
          "output_type": "execute_result"
        }
      ],
      "source": [
        "atualiza_rendimento()\n",
        "registros"
      ]
    },
    {
      "cell_type": "markdown",
      "metadata": {},
      "source": [
        "### Exportar relatorio .CSV"
      ]
    },
    {
      "cell_type": "code",
      "execution_count": 58,
      "metadata": {},
      "outputs": [
        {
          "name": "stdout",
          "output_type": "stream",
          "text": [
            "Relatório exportado para relatorio.csv\n"
          ]
        }
      ],
      "source": [
        "exportar_relatorio_csv2()\n",
        "# exportar_relatorio(\"json\")"
      ]
    },
    {
      "cell_type": "markdown",
      "metadata": {},
      "source": [
        "### Agrupar por tipo"
      ]
    },
    {
      "cell_type": "code",
      "execution_count": 50,
      "metadata": {},
      "outputs": [
        {
          "name": "stdout",
          "output_type": "stream",
          "text": [
            "Agrupado por tipo: {'Receita': 1700.0, 'Investimento': 400.0, 'Despesa': -90.0}\n"
          ]
        },
        {
          "ename": "KeyError",
          "evalue": "'data'",
          "output_type": "error",
          "traceback": [
            "\u001b[1;31m---------------------------------------------------------------------------\u001b[0m",
            "\u001b[1;31mKeyError\u001b[0m                                  Traceback (most recent call last)",
            "Cell \u001b[1;32mIn[50], line 2\u001b[0m\n\u001b[0;32m      1\u001b[0m \u001b[38;5;28mprint\u001b[39m(\u001b[38;5;124m\"\u001b[39m\u001b[38;5;124mAgrupado por tipo:\u001b[39m\u001b[38;5;124m\"\u001b[39m, agrupar_por(\u001b[38;5;124m\"\u001b[39m\u001b[38;5;124mtipo\u001b[39m\u001b[38;5;124m\"\u001b[39m))\n\u001b[1;32m----> 2\u001b[0m \u001b[38;5;28mprint\u001b[39m(\u001b[38;5;124m\"\u001b[39m\u001b[38;5;124mAgrupado por mês:\u001b[39m\u001b[38;5;124m\"\u001b[39m, \u001b[43magrupar_por\u001b[49m\u001b[43m(\u001b[49m\u001b[38;5;124;43m\"\u001b[39;49m\u001b[38;5;124;43mmes\u001b[39;49m\u001b[38;5;124;43m\"\u001b[39;49m\u001b[43m)\u001b[49m)\n\u001b[0;32m      3\u001b[0m \u001b[38;5;28mprint\u001b[39m(\u001b[38;5;124m\"\u001b[39m\u001b[38;5;124mAgrupado por ano:\u001b[39m\u001b[38;5;124m\"\u001b[39m, agrupar_por(\u001b[38;5;124m\"\u001b[39m\u001b[38;5;124mano\u001b[39m\u001b[38;5;124m\"\u001b[39m))\n\u001b[0;32m      4\u001b[0m \u001b[38;5;28mprint\u001b[39m(\u001b[38;5;124m\"\u001b[39m\u001b[38;5;124mAgrupado por data:\u001b[39m\u001b[38;5;124m\"\u001b[39m, agrupar_por(\u001b[38;5;124m\"\u001b[39m\u001b[38;5;124mdata\u001b[39m\u001b[38;5;124m\"\u001b[39m))\n",
            "Cell \u001b[1;32mIn[41], line 22\u001b[0m, in \u001b[0;36magrupar_por\u001b[1;34m(chave)\u001b[0m\n\u001b[0;32m     20\u001b[0m     chave_valor \u001b[38;5;241m=\u001b[39m movimento[\u001b[38;5;124m\"\u001b[39m\u001b[38;5;124mtipo\u001b[39m\u001b[38;5;124m\"\u001b[39m]\n\u001b[0;32m     21\u001b[0m \u001b[38;5;28;01melif\u001b[39;00m chave \u001b[38;5;241m==\u001b[39m \u001b[38;5;124m\"\u001b[39m\u001b[38;5;124mmes\u001b[39m\u001b[38;5;124m\"\u001b[39m:\n\u001b[1;32m---> 22\u001b[0m     chave_valor \u001b[38;5;241m=\u001b[39m \u001b[43mmovimento\u001b[49m\u001b[43m[\u001b[49m\u001b[38;5;124;43m\"\u001b[39;49m\u001b[38;5;124;43mdata\u001b[39;49m\u001b[38;5;124;43m\"\u001b[39;49m\u001b[43m]\u001b[49m\u001b[38;5;241m.\u001b[39msplit(\u001b[38;5;124m\"\u001b[39m\u001b[38;5;124m-\u001b[39m\u001b[38;5;124m\"\u001b[39m)[\u001b[38;5;241m1\u001b[39m]\n\u001b[0;32m     23\u001b[0m \u001b[38;5;28;01melif\u001b[39;00m chave \u001b[38;5;241m==\u001b[39m \u001b[38;5;124m\"\u001b[39m\u001b[38;5;124mano\u001b[39m\u001b[38;5;124m\"\u001b[39m:\n\u001b[0;32m     24\u001b[0m     chave_valor \u001b[38;5;241m=\u001b[39m movimento[\u001b[38;5;124m\"\u001b[39m\u001b[38;5;124mdata\u001b[39m\u001b[38;5;124m\"\u001b[39m]\u001b[38;5;241m.\u001b[39msplit(\u001b[38;5;124m\"\u001b[39m\u001b[38;5;124m-\u001b[39m\u001b[38;5;124m\"\u001b[39m)[\u001b[38;5;241m0\u001b[39m]\n",
            "\u001b[1;31mKeyError\u001b[0m: 'data'"
          ]
        }
      ],
      "source": [
        "print(\"Agrupado por tipo:\", agrupar_por(\"tipo\"))\n",
        "print(\"Agrupado por mês:\", agrupar_por(\"mes\"))\n",
        "print(\"Agrupado por ano:\", agrupar_por(\"ano\"))\n",
        "print(\"Agrupado por data:\", agrupar_por(\"data\"))"
      ]
    },
    {
      "attachments": {},
      "cell_type": "markdown",
      "metadata": {},
      "source": [
        "### Consultas por tipo"
      ]
    },
    {
      "cell_type": "code",
      "execution_count": null,
      "metadata": {},
      "outputs": [
        {
          "name": "stdout",
          "output_type": "stream",
          "text": [
            "Pesquisa por tipo Receita: [{'tipo': 'Receita', 'valor': 100.0, 'dia': 1, 'mes': 1, 'ano': 2022}, {'tipo': 'Receita', 'valor': 1000.0, 'dia': 1, 'mes': 1, 'ano': 2022}]\n",
            "Pesquisa por tipo Despesa: [{'tipo': 'Despesa', 'valor': -50.0, 'dia': 2, 'mes': 1, 'ano': 2022}, {'tipo': 'Despesa', 'valor': -90.0, 'dia': 2, 'mes': 1, 'ano': 2022}]\n",
            "Pesquisa por tipo Investimento: [{'tipo': 'Investimento', 'valor': 200.0, 'dia': 3, 'mes': 1, 'ano': 2022, 'montante': 490859768.0409117}, {'tipo': 'Investimento', 'valor': 200.0, 'dia': 3, 'mes': 5, 'ano': 2023, 'montante': 32903.530223710666}]\n",
            "Pesquisa por valor: [{'tipo': 'Receita', 'valor': 100.0, 'dia': 1, 'mes': 1, 'ano': 2022}]\n",
            "Pesquisa por valor: [{'tipo': 'Despesa', 'valor': -50.0, 'dia': 2, 'mes': 1, 'ano': 2022}]\n",
            "Pesquisa por data: [{'tipo': 'Receita', 'valor': 100.0, 'dia': 1, 'mes': 1, 'ano': 2022}, {'tipo': 'Receita', 'valor': 1000.0, 'dia': 1, 'mes': 1, 'ano': 2022}]\n",
            "Pesquisa por data: [{'tipo': 'Investimento', 'valor': 200.0, 'dia': 3, 'mes': 5, 'ano': 2023, 'montante': 32903.530223710666}]\n"
          ]
        }
      ],
      "source": [
        "print(\"Pesquisa por tipo Receita:\", ler_registros(\"tipo\",'Receita'))\n",
        "print(\"Pesquisa por tipo Despesa:\", ler_registros(\"tipo\",'Despesa'))\n",
        "print(\"Pesquisa por tipo Investimento:\", ler_registros(\"tipo\",'Investimento'))\n",
        "\n",
        "print(\"Pesquisa por valor:\", ler_registros(\"valor\",100))\n",
        "print(\"Pesquisa por valor:\", ler_registros(\"valor\",-50))\n",
        "\n",
        "print(\"Pesquisa por data:\", ler_registros(\"data\",\"2022-01-01\"))\n",
        "print(\"Pesquisa por data:\", ler_registros(\"data\",\"2023-05-03\"))"
      ]
    },
    {
      "cell_type": "code",
      "execution_count": null,
      "metadata": {},
      "outputs": [],
      "source": []
    }
  ],
  "metadata": {
    "colab": {
      "private_outputs": true,
      "provenance": []
    },
    "kernelspec": {
      "display_name": "Python 3",
      "language": "python",
      "name": "python3"
    },
    "language_info": {
      "codemirror_mode": {
        "name": "ipython",
        "version": 3
      },
      "file_extension": ".py",
      "mimetype": "text/x-python",
      "name": "python",
      "nbconvert_exporter": "python",
      "pygments_lexer": "ipython3",
      "version": "3.11.5"
    },
    "vscode": {
      "interpreter": {
        "hash": "4c27683f14e0d5aec8edf7b0ff88e12954114d98695ba1c4a8788d3d663bea55"
      }
    }
  },
  "nbformat": 4,
  "nbformat_minor": 0
}
