{
  "cells": [
    {
      "cell_type": "markdown",
      "metadata": {
        "id": "QcN62PrTNuNr"
      },
      "source": [
        "# Projeto Final | Sistema de Controle Financeiro"
      ]
    },
    {
      "cell_type": "markdown",
      "metadata": {},
      "source": [
        "%----------------------------------------------------------------------------%<br>\n",
        "<br>\n",
        "``Autores:`` Andrea Elias, Anthony Heimlich, Éverton Donato, Julia Midori e Luana Kruger  <br>\n",
        "<br>\n",
        "``Instituição:`` ADA Tech<br>\n",
        "<br>\n",
        "``Projeto:`` Santander Coders 2023.2<br>\n",
        "<br>\n",
        "``Descrição:`` Este código desenvolve um sistema para controle financeiro que receba as movimentações e as armazena em um arquivo csv ou json.<br>\n",
        "<br>\n",
        "``Repositório GitHub:`` https://github.com/JuliaMidoriRW/Trabalho_Final_LogProgII_Grupo4 <br>\n",
        "<br>\n",
        "\n",
        "%----------------------------------------------------------------------------%"
      ]
    },
    {
      "cell_type": "markdown",
      "metadata": {},
      "source": [
        "# Carregar bibliotecas e lista de registros"
      ]
    },
    {
      "cell_type": "code",
<<<<<<< HEAD
      "execution_count": 47,
=======
      "execution_count": 20,
>>>>>>> a810fd052180eff844ea48ceb6d449ed48f47d35
      "metadata": {},
      "outputs": [],
      "source": [
        "from datetime import datetime\n",
        "from dateutil import relativedelta\n",
<<<<<<< HEAD
        "import os"
      ]
    },
    {
      "cell_type": "code",
      "execution_count": 48,
      "metadata": {},
      "outputs": [],
      "source": [
=======
        "# import json\n",
        "\n",
>>>>>>> a810fd052180eff844ea48ceb6d449ed48f47d35
        "registros = []"
      ]
    },
    {
      "cell_type": "markdown",
      "metadata": {},
      "source": [
        "# Carregar funções"
      ]
    },
    {
      "cell_type": "markdown",
      "metadata": {},
      "source": [
        "### Função Calcular rendimento"
      ]
    },
    {
      "cell_type": "code",
<<<<<<< HEAD
      "execution_count": 50,
=======
      "execution_count": 3,
>>>>>>> a810fd052180eff844ea48ceb6d449ed48f47d35
      "metadata": {},
      "outputs": [],
      "source": [
        "def calcula_rendimento(valor, data):\n",
<<<<<<< HEAD
        "    \"\"\"\n",
        "    Calcular montante com base no valor e na data do registro.\n",
=======
        "    \"\"\"Calcular montante.\n",
>>>>>>> a810fd052180eff844ea48ceb6d449ed48f47d35
        "\n",
        "    Parameters\n",
        "    ----------\n",
        "    valor: float\n",
<<<<<<< HEAD
        "        Valor do registro financeiro.\n",
        "        \n",
        "    data: datetime\n",
        "        Data do registro no formato 'YYYY-MM-DD'.\n",
=======
        "        valor do registro\n",
        "    data: datetime\n",
        "        data do registro\n",
>>>>>>> a810fd052180eff844ea48ceb6d449ed48f47d35
        "\n",
        "    Returns\n",
        "    -------\n",
        "    montante: float\n",
<<<<<<< HEAD
        "        Valor do rendimento considerando uma taxa de rendimento diário.\n",
        "\n",
        "    \"\"\"\n",
        "    \n",
=======
        "        valor do rendimento\n",
        "\n",
        "    \"\"\"\n",
        "\n",
>>>>>>> a810fd052180eff844ea48ceb6d449ed48f47d35
        "    data_registro = datetime.strptime(data, \"%Y-%m-%d\").date()\n",
        "    data_agora = datetime.now().date()\n",
        "    delta = relativedelta.relativedelta(data_agora, data_registro)\n",
        "\n",
        "    meses = delta.months + (delta.years * 12)\n",
        "    taxa = 0.01  # Exemplo: taxa de rendimento diária (1%)\n",
        "    montante = (valor * ((1 + taxa) ** meses)) - valor\n",
        "\n",
        "    return montante"
      ]
    },
    {
<<<<<<< HEAD
      "cell_type": "markdown",
      "metadata": {},
      "source": [
        "### Função Criar registro"
      ]
    },
    {
      "cell_type": "code",
      "execution_count": 51,
=======
      "cell_type": "code",
      "execution_count": 4,
>>>>>>> a810fd052180eff844ea48ceb6d449ed48f47d35
      "metadata": {},
      "outputs": [],
      "source": [
        "def criar_registro(tipo, valor, data):\n",
        "    \"\"\"\n",
        "    Criar novos registros e identificar a data que o registro foi feito, qual tipo de movimentação, valor.\n",
        "\n",
        "    Parameters\n",
        "    ----------\n",
        "    tipo: string\n",
        "        Tipo da movimentação realizada. Os tipos podem ser:\n",
        "        - Receita (valor numérico e armazenado normalmente), \n",
        "        - Despesas (valor positivo, mas armazenado como negativo),\n",
        "        - Investimento (tem a informação de 'Montante').\n",
        "\n",
        "    valor: float\n",
        "        Valor do registro.\n",
        "\n",
        "    data: datetime\n",
        "        Data do registro no formato 'YYYY-MM-DD'.\n",
        "\n",
        "    Returns\n",
        "    -------\n",
        "    None\n",
        "\n",
        "    Exemplo\n",
        "    -------\n",
        "    >>> criar_registro(\"Receita\", 100, \"2022-01-01\")\n",
        "    >>> criar_registro(\"Despesa\", 50, \"2022-01-02\")\n",
        "    >>> criar_registro(\"Investimento\", 200, \"2022-01-03\")\n",
        "\n",
        "    \"\"\"\n",
        "\n",
        "    data_registro = datetime.strptime(data, \"%Y-%m-%d\").date()\n",
        "    dia, mes, ano = data_registro.day, data_registro.month, data_registro.year\n",
        "    montante = 0\n",
        "\n",
        "    if tipo == 'Receita':\n",
        "        valor = float(valor)\n",
        "    elif tipo == 'Despesa':\n",
        "        valor = -float(valor)\n",
        "    elif tipo == 'Investimento':\n",
        "        valor = float(valor)\n",
        "        montante = calcula_rendimento(valor, data)\n",
        "    else:\n",
        "        raise ValueError(\"Tipo de movimentação inválida.\")\n",
        "    \n",
        "    registro = {'tipo': tipo, 'valor': valor, 'dia': dia, 'mes': mes, 'ano': ano}\n",
        "\n",
        "    if montante > 0:\n",
        "        registro['montante'] = montante\n",
        "        \n",
        "    registros.append(registro)"
      ]
    },
    {
      "cell_type": "markdown",
      "metadata": {},
      "source": [
        "### Função Ler registro"
      ]
    },
    {
      "cell_type": "code",
<<<<<<< HEAD
      "execution_count": 52,
=======
      "execution_count": 5,
>>>>>>> a810fd052180eff844ea48ceb6d449ed48f47d35
      "metadata": {},
      "outputs": [],
      "source": [
        "def ler_registros(chave, valor):\n",
        "    \"\"\"\n",
        "    Consultar os registros por data, tipo ou valor.\n",
        "\n",
        "    Parameters\n",
        "    ----------\n",
        "    chave: string\n",
<<<<<<< HEAD
        "        Chave pela qual os registros serão consultados ('data', 'tipo' ou 'valor').\n",
        "\n",
        "    valor: string or float\n",
        "        Valor associado à chave para filtrar os registros.\n",
        "\n",
        "    Returns\n",
        "    -------\n",
        "    resultado: list[dict]\n",
        "        Lista de registros que correspondem aos critérios de consulta.\n",
        "\n",
        "\n",
        "    Exemplo\n",
        "    -------\n",
        "    >>> ler_registros('tipo', 'Receita')\n",
        "    >>> ler_registros('data', '2022-02-15')\n",
        "    >>> ler_registros('valor', 1000)\n",
=======
        "        Tipo de informação que será consultada. As chaves aceitas são:\n",
        "            - Data (Irá buscar todas as movimentações de acordo com a data da mocimentação informada), \n",
        "            - Tipo (Irá buscar todas as movimentações de acordo com o tipo de movimentação informada),\n",
        "            - Valor (Irá buscar todas as movimentações de acordo com o valor de movimentação informada)\n",
        "\n",
        "    chave: string\n",
        "        Valor a ser buscado\n",
        "\n",
        "    Returns\n",
        "    -------\n",
        "    resultado: dict\n",
        "        Dicionário com os registros localizados\n",
>>>>>>> a810fd052180eff844ea48ceb6d449ed48f47d35
        "\n",
        "    \"\"\"\n",
        "\n",
        "    resultado = []\n",
        "\n",
        "    for movimento in registros:\n",
        "        if chave != \"data\":\n",
        "            if movimento[chave] == valor:\n",
        "                resultado.append(movimento)\n",
        "        else:\n",
        "            data_registro = datetime.strptime(valor, \"%Y-%m-%d\").date()\n",
        "            dia, mes, ano = data_registro.day, data_registro.month, data_registro.year\n",
        "            if movimento[\"dia\"] == dia and movimento[\"mes\"] == mes and movimento[\"ano\"] == ano:\n",
        "                resultado.append(movimento)\n",
        "\n",
        "    return resultado\n"
      ]
    },
    {
<<<<<<< HEAD
      "cell_type": "markdown",
      "metadata": {},
      "source": [
        "### Função Atualizar registro"
      ]
    },
    {
      "cell_type": "code",
      "execution_count": 53,
=======
      "cell_type": "code",
      "execution_count": 6,
>>>>>>> a810fd052180eff844ea48ceb6d449ed48f47d35
      "metadata": {},
      "outputs": [],
      "source": [
        "def atualizar_registro(indice, tipo, valor):\n",
        "    \"\"\"\n",
        "    Atualiza o valor e/ou o tipo do registro no índice especificado.\n",
        "\n",
        "    Parameters\n",
        "    ----------\n",
        "    indice: int\n",
        "        Índice do registro a ser atualizado.\n",
        "\n",
        "    tipo: string\n",
        "        Tipo da movimentação financeira ('Receita', 'Despesa' ou 'Investimento').\n",
        "\n",
        "    valor: float\n",
        "        Valor da movimentação financeira.\n",
        "\n",
        "    Returns\n",
        "    -------\n",
        "    None\n",
        "\n",
        "    Nota\n",
        "    -------\n",
        "    - Se o índice estiver fora dos limites dos registros existentes, nenhum registro será atualizado.\n",
        "    - A data do registro é automaticamente atualizada para a data e hora atuais.\n",
        "    - Se o tipo for especificado como 'Investimento', o montante também será recalculado.\n",
        "\n",
        "    Exemplo\n",
        "    -------\n",
        "    >>> atualizar_registro(0, tipo='Receita', valor=1500.0)\n",
        "    >>> atualizar_registro(2, tipo='Investimento', valor=100)\n",
        "    \n",
        "    \"\"\"\n",
        "    \n",
        "    if indice < len(registros):\n",
        "        registro = registros[indice]\n",
        "        if tipo:\n",
        "            registro['tipo'] = tipo\n",
        "        if valor:\n",
        "            registro['valor'] = valor\n",
        "            \n",
        "        data_agora = datetime.now()\n",
        "        dia, mes, ano = data_agora.day, data_agora.month, data_agora.year\n",
        "        registro['dia'], registro['mes'], registro['ano'] = dia, mes, ano\n",
        "\n",
        "        if registro['tipo'] == \"Investimento\":\n",
        "            registro['montante'] = calcula_rendimento(registro['valor'], f\"{ano}-{mes:02d}-{dia:02d}\")\n",
        "\n",
        "        print('Registro', indice, 'atualizado com sucesso')\n",
        "    \n",
        "    else:\n",
        "        print('Índice fora dos limites dos registros existentes, nenhum registro foi atualizado.')"
      ]
    },
    {
      "cell_type": "markdown",
      "metadata": {},
      "source": [
        "### Função Deletar registro"
      ]
    },
    {
      "cell_type": "code",
<<<<<<< HEAD
      "execution_count": 54,
=======
      "execution_count": 7,
>>>>>>> a810fd052180eff844ea48ceb6d449ed48f47d35
      "metadata": {},
      "outputs": [],
      "source": [
        "def deletar_registro(indice):\n",
        "    \"\"\"\n",
        "    Deleta o registro no índice especificado.\n",
        "\n",
        "    Parameters\n",
        "    ----------\n",
        "    indice: int\n",
        "        Indice do registro a ser deletado.\n",
        "\n",
        "    Returns\n",
        "    -------\n",
        "    None\n",
        "\n",
        "    Nota\n",
        "    -------\n",
        "    - Se o índice estiver fora dos limites dos registros existentes, nenhum registro será deletado.\n",
        "\n",
        "    Exemplo\n",
        "    -------\n",
        "    >>> deletar_registro(0)\n",
        "    >>> deletar_registro(2)\n",
        "\n",
        "    \"\"\"\n",
        "    if indice < len(registros):\n",
        "        del registros[indice]\n",
        "        print('Registro', indice, 'deletado com sucesso')\n",
        "    \n",
        "    else:\n",
        "        print('Índice fora dos limites dos registros existentes, nenhum registro foi deletado.')"
      ]
    },
    {
      "cell_type": "markdown",
      "metadata": {},
      "source": [
        "### Função Atualizar rendimento"
      ]
    },
    {
      "cell_type": "code",
<<<<<<< HEAD
      "execution_count": 55,
=======
      "execution_count": 19,
>>>>>>> a810fd052180eff844ea48ceb6d449ed48f47d35
      "metadata": {},
      "outputs": [],
      "source": [
        "def atualiza_rendimento():\n",
        "    \"\"\"\n",
        "    Atualiza os valores de rendimento para todas as movimentações do tipo 'Investimento'.\n",
        "\n",
        "    Parameters\n",
        "    ----------\n",
        "    None\n",
        "\n",
        "    Returns\n",
        "    -------\n",
        "    None\n",
        "\n",
        "    Nota\n",
        "    -------\n",
        "    - Atualiza os montantes para todas as movimentações do tipo 'Investimento' com base na taxa de rendimento diária.\n",
        "    - A data do investimento é obtida a partir dos campos 'dia', 'mes' e 'ano' de cada movimentação.\n",
        "\n",
        "    Exemplo\n",
        "    -------\n",
        "    >>> atualiza_rendimento()\n",
        "\n",
        "    \"\"\"\n",
        "    \n",
        "    for movimento in registros:\n",
        "        if movimento[\"tipo\"] == \"Investimento\":\n",
        "            valor_inicial = movimento[\"valor\"]\n",
        "            concatenar = str(movimento['ano']) + '-' + str(movimento['mes']) + '-' + str(movimento['dia'])\n",
        "            data_investimento = datetime.strptime(concatenar, \"%Y-%m-%d\")\n",
        "            movimento[\"montante\"] = calcula_rendimento(valor_inicial, data_investimento.strftime(\"%Y-%m-%d\"))"
      ]
    },
    {
<<<<<<< HEAD
      "cell_type": "markdown",
=======
      "cell_type": "code",
      "execution_count": 9,
>>>>>>> a810fd052180eff844ea48ceb6d449ed48f47d35
      "metadata": {},
      "source": [
        "### Função Exportar relatório"
      ]
    },
    {
      "cell_type": "code",
<<<<<<< HEAD
      "execution_count": 56,
=======
      "execution_count": 10,
>>>>>>> a810fd052180eff844ea48ceb6d449ed48f47d35
      "metadata": {},
      "outputs": [],
      "source": [
        "def exportar_relatorio():\n",
        "    \"\"\"\n",
        "    Exporta um relatório final em formato CSV.\n",
        "\n",
        "    Parameters\n",
        "    ----------\n",
        "    None\n",
        "\n",
        "    Returns\n",
        "    -------\n",
        "    None\n",
        "\n",
        "    Nota\n",
        "    -------\n",
        "    - O relatório é exportado para um arquivo com nome padrão 'relatorio.csv'.\n",
        "    - O relatório inclui informações sobre tipo, valor, data e montante para cada movimentação no formato especificado.\n",
        "\n",
        "    Exemplo:\n",
        "    >>> exportar_relatorio()\n",
        "\n",
        "    \"\"\"\n",
        "\n",
        "    nome_arquivo = \"relatorio.csv\"\n",
        "\n",
        "    with open(nome_arquivo, \"w\") as file:\n",
        "        file.write(\"Tipo, Valor, Data, Montante\\n\")\n",
        "        for movimento in registros:\n",
        "            tipo = movimento.get('tipo', '')\n",
        "            valor = movimento.get('valor', '')\n",
        "            dia = movimento.get('dia', '')\n",
        "            mes = movimento.get('mes', '')\n",
        "            ano = movimento.get('ano', '')\n",
        "            montante = movimento.get('montante', 0)\n",
        "\n",
        "\n",
        "            data_formatada = f\"{ano}-{mes:02d}-{dia:02d}\"\n",
        "\n",
        "            file.write(f\"{tipo},{valor},{data_formatada},{montante}\\n\")\n",
        "\n",
        "    print(f\"Relatório exportado para {nome_arquivo}\")\n"
      ]
    },
    {
      "cell_type": "markdown",
      "metadata": {},
      "source": [
        "### Função Agrupar "
      ]
    },
    {
      "cell_type": "code",
<<<<<<< HEAD
      "execution_count": 57,
=======
      "execution_count": 11,
>>>>>>> a810fd052180eff844ea48ceb6d449ed48f47d35
      "metadata": {},
      "outputs": [],
      "source": [
        "def agrupar_por(chave):\n",
        "    \"\"\"\n",
        "    Função de agrupamento capaz de mostrar o total de valor baseado em alguma informação (tipo, mes, ano, data).\n",
        "\n",
        "    Parameters\n",
        "    ----------\n",
        "    chave: string\n",
        "        Informação base para o agrupamento ('tipo', 'mes', 'ano', 'data')\n",
        "\n",
        "    Returns\n",
        "    -------\n",
        "    resultado: dict\n",
        "        Dicionário com o registro agrupado por chave\n",
        "\n",
        "    \"\"\"\n",
        "        \n",
        "    resultado = {}\n",
        "    for movimento in registros:\n",
        "        valor = movimento[\"valor\"]\n",
        "        if chave == \"tipo\":\n",
        "            chave_valor = movimento[\"tipo\"]\n",
        "        elif chave == \"mes\":\n",
        "            chave_valor = movimento[\"mes\"]\n",
        "        elif chave == \"ano\":\n",
        "            chave_valor = movimento[\"ano\"]\n",
        "        else:\n",
        "            chave_valor = movimento[\"dia\"]\n",
        "\n",
        "        resultado[chave_valor] = resultado.get(chave_valor, 0) + valor\n",
        "\n",
        "    return resultado"
      ]
    },
    {
      "cell_type": "markdown",
      "metadata": {},
      "source": [
        "# Testes executados"
      ]
    },
    {
      "cell_type": "markdown",
      "metadata": {},
      "source": [
        "### Criar registro"
      ]
    },
    {
      "cell_type": "code",
<<<<<<< HEAD
      "execution_count": 58,
=======
      "execution_count": 21,
>>>>>>> a810fd052180eff844ea48ceb6d449ed48f47d35
      "metadata": {},
      "outputs": [
        {
          "data": {
            "text/plain": [
              "[{'tipo': 'Receita', 'valor': 100.0, 'dia': 1, 'mes': 1, 'ano': 2022},\n",
              " {'tipo': 'Despesa', 'valor': -50.0, 'dia': 2, 'mes': 1, 'ano': 2022},\n",
              " {'tipo': 'Investimento',\n",
              "  'valor': 200.0,\n",
              "  'dia': 3,\n",
              "  'mes': 1,\n",
              "  'ano': 2022,\n",
<<<<<<< HEAD
              "  'montante': 520904324.96475977},\n",
=======
              "  'montante': 53.946929706382946},\n",
>>>>>>> a810fd052180eff844ea48ceb6d449ed48f47d35
              " {'tipo': 'Receita', 'valor': 1000.0, 'dia': 1, 'mes': 1, 'ano': 2022},\n",
              " {'tipo': 'Despesa', 'valor': -90.0, 'dia': 2, 'mes': 1, 'ano': 2022},\n",
              " {'tipo': 'Investimento',\n",
              "  'valor': 200.0,\n",
              "  'dia': 3,\n",
              "  'mes': 5,\n",
              "  'ano': 2023,\n",
<<<<<<< HEAD
              "  'montante': 34929.73110164355},\n",
              " {'tipo': 'Receita', 'valor': 550.0, 'dia': 3, 'mes': 2, 'ano': 2023}]"
            ]
          },
          "execution_count": 58,
=======
              "  'montante': 16.571341125616044},\n",
              " {'tipo': 'Receita', 'valor': 550.0, 'dia': 3, 'mes': 2, 'ano': 2023}]"
            ]
          },
          "execution_count": 21,
>>>>>>> a810fd052180eff844ea48ceb6d449ed48f47d35
          "metadata": {},
          "output_type": "execute_result"
        }
      ],
      "source": [
        "criar_registro(\"Receita\", 100, \"2022-01-01\")\n",
        "criar_registro(\"Despesa\", 50, \"2022-01-02\")\n",
        "criar_registro(\"Investimento\", 200, \"2022-01-03\")\n",
        "criar_registro(\"Receita\", 1000, \"2022-01-01\")\n",
        "criar_registro(\"Despesa\", 90, \"2022-01-02\")\n",
        "criar_registro(\"Investimento\", 200, \"2023-05-03\")\n",
        "criar_registro(\"Receita\", 550, \"2023-02-03\")\n",
        "\n",
        "registros"
      ]
    },
    {
      "cell_type": "markdown",
      "metadata": {},
      "source": [
        "### Ler registro"
      ]
    },
    {
      "cell_type": "code",
<<<<<<< HEAD
      "execution_count": 62,
=======
      "execution_count": 22,
>>>>>>> a810fd052180eff844ea48ceb6d449ed48f47d35
      "metadata": {},
      "outputs": [
        {
          "name": "stdout",
          "output_type": "stream",
          "text": [
            "[{'tipo': 'Receita', 'valor': 100.0, 'dia': 1, 'mes': 1, 'ano': 2022}, {'tipo': 'Receita', 'valor': 1000.0, 'dia': 1, 'mes': 1, 'ano': 2022}, {'tipo': 'Receita', 'valor': 550.0, 'dia': 3, 'mes': 2, 'ano': 2023}]\n",
            "[{'tipo': 'Investimento', 'valor': 200.0, 'dia': 3, 'mes': 1, 'ano': 2022, 'montante': 520904324.96475977}]\n",
            "[{'tipo': 'Receita', 'valor': 1000.0, 'dia': 1, 'mes': 1, 'ano': 2022}]\n"
          ]
        }
      ],
      "source": [
        "print(ler_registros('tipo', 'Receita'))\n",
        "\n",
        "print(ler_registros('data', '2022-01-03'))\n",
        "\n",
        "print(ler_registros('valor', 1000))"
      ]
    },
    {
      "cell_type": "markdown",
      "metadata": {},
      "source": [
        "### Atualizar registro"
      ]
    },
    {
      "cell_type": "code",
      "execution_count": 63,
      "metadata": {},
      "outputs": [
        {
          "name": "stdout",
          "output_type": "stream",
          "text": [
            "{'tipo': 'Receita', 'valor': 100.0, 'dia': 1, 'mes': 1, 'ano': 2022}\n",
            "Registro 0 atualizado com sucesso\n",
            "{'tipo': 'Receita', 'valor': 1500.0, 'dia': 19, 'mes': 1, 'ano': 2024}\n"
          ]
        }
      ],
      "source": [
        "print(registros[0])\n",
        "atualizar_registro(0, tipo='Receita', valor=1500.0)\n",
        "print(registros[0])"
      ]
    },
    {
      "cell_type": "code",
      "execution_count": 64,
      "metadata": {},
      "outputs": [
        {
          "name": "stdout",
          "output_type": "stream",
          "text": [
            "{'tipo': 'Investimento', 'valor': 200.0, 'dia': 3, 'mes': 1, 'ano': 2022, 'montante': 520904324.96475977}\n",
            "Registro 2 atualizado com sucesso\n",
            "{'tipo': 'Investimento', 'valor': 100, 'dia': 19, 'mes': 1, 'ano': 2024, 'montante': 0.0}\n"
          ]
        }
      ],
      "source": [
        "# Verificar a atualização do montante\n",
        "\n",
        "print(registros[2])\n",
        "atualizar_registro(2, tipo='Investimento', valor=100)\n",
        "print(registros[2])"
      ]
    },
    {
      "cell_type": "markdown",
      "metadata": {},
      "source": [
        "### Deletar registro"
      ]
    },
    {
      "cell_type": "code",
<<<<<<< HEAD
      "execution_count": 65,
=======
      "execution_count": 23,
>>>>>>> a810fd052180eff844ea48ceb6d449ed48f47d35
      "metadata": {},
      "outputs": [
        {
          "data": {
            "text/plain": [
              "{'tipo': 'Despesa', 'valor': -50.0, 'dia': 2, 'mes': 1, 'ano': 2022}"
            ]
          },
          "execution_count": 65,
          "metadata": {},
          "output_type": "execute_result"
        }
      ],
      "source": [
        "registros[1]"
      ]
    },
    {
      "cell_type": "code",
      "execution_count": 66,
      "metadata": {},
      "outputs": [
        {
          "name": "stdout",
          "output_type": "stream",
          "text": [
            "Registro 1 deletado com sucesso\n"
          ]
        }
      ],
      "source": [
        "deletar_registro(1)"
      ]
    },
    {
      "cell_type": "code",
      "execution_count": 67,
      "metadata": {},
      "outputs": [
        {
          "data": {
            "text/plain": [
              "{'tipo': 'Investimento',\n",
              " 'valor': 100,\n",
              " 'dia': 19,\n",
              " 'mes': 1,\n",
              " 'ano': 2024,\n",
              " 'montante': 0.0}"
            ]
          },
          "execution_count": 67,
          "metadata": {},
          "output_type": "execute_result"
        }
      ],
      "source": [
        "registros[1]"
      ]
    },
    {
      "cell_type": "markdown",
      "metadata": {},
      "source": [
        "### Atualizar rendimento"
      ]
    },
    {
      "cell_type": "code",
<<<<<<< HEAD
      "execution_count": 68,
      "metadata": {},
      "outputs": [
        {
          "name": "stdout",
          "output_type": "stream",
          "text": [
            "[{'tipo': 'Investimento', 'valor': 100, 'dia': 19, 'mes': 1, 'ano': 2024, 'montante': 0.0}, {'tipo': 'Investimento', 'valor': 200.0, 'dia': 3, 'mes': 5, 'ano': 2023, 'montante': 34929.73110164355}]\n"
          ]
=======
      "execution_count": 24,
      "metadata": {},
      "outputs": [
        {
          "data": {
            "text/plain": [
              "[{'tipo': 'Receita', 'valor': 150, 'dia': 17, 'mes': 1, 'ano': 2024},\n",
              " {'tipo': 'Investimento',\n",
              "  'valor': 200.0,\n",
              "  'dia': 3,\n",
              "  'mes': 1,\n",
              "  'ano': 2022,\n",
              "  'montante': 53.946929706382946},\n",
              " {'tipo': 'Receita', 'valor': 1000.0, 'dia': 1, 'mes': 1, 'ano': 2022},\n",
              " {'tipo': 'Despesa', 'valor': -90.0, 'dia': 2, 'mes': 1, 'ano': 2022},\n",
              " {'tipo': 'Investimento',\n",
              "  'valor': 200.0,\n",
              "  'dia': 3,\n",
              "  'mes': 5,\n",
              "  'ano': 2023,\n",
              "  'montante': 16.571341125616044},\n",
              " {'tipo': 'Receita', 'valor': 550.0, 'dia': 3, 'mes': 2, 'ano': 2023}]"
            ]
          },
          "execution_count": 24,
          "metadata": {},
          "output_type": "execute_result"
>>>>>>> a810fd052180eff844ea48ceb6d449ed48f47d35
        }
      ],
      "source": [
        "# investimentos = [registro for registro in registros if registro['tipo'] == 'Investimento']\n",
        "print(ler_registros('tipo', 'Investimento'))"
      ]
    },
    {
      "cell_type": "code",
      "execution_count": 69,
      "metadata": {},
      "outputs": [],
      "source": [
        "atualiza_rendimento()"
      ]
    },
    {
      "cell_type": "code",
      "execution_count": 70,
      "metadata": {},
      "outputs": [
        {
          "name": "stdout",
          "output_type": "stream",
          "text": [
            "[{'tipo': 'Investimento', 'valor': 100, 'dia': 19, 'mes': 1, 'ano': 2024, 'montante': 0.0}, {'tipo': 'Investimento', 'valor': 200.0, 'dia': 3, 'mes': 5, 'ano': 2023, 'montante': -16.571341125616044}]\n"
          ]
        }
      ],
      "source": [
        "print(ler_registros('tipo', 'Investimento'))"
      ]
    },
    {
      "cell_type": "markdown",
      "metadata": {},
      "source": [
        "### Exportar relatorio .CSV"
      ]
    },
    {
      "cell_type": "code",
<<<<<<< HEAD
      "execution_count": 43,
=======
      "execution_count": 16,
>>>>>>> a810fd052180eff844ea48ceb6d449ed48f47d35
      "metadata": {},
      "outputs": [
        {
          "name": "stdout",
          "output_type": "stream",
          "text": [
            "Relatório exportado para relatorio.csv\n"
          ]
        }
      ],
      "source": [
        "exportar_relatorio()"
      ]
    },
    {
      "cell_type": "markdown",
      "metadata": {},
      "source": [
        "### Agrupar por tipo"
      ]
    },
    {
      "cell_type": "code",
<<<<<<< HEAD
      "execution_count": 73,
=======
      "execution_count": 17,
>>>>>>> a810fd052180eff844ea48ceb6d449ed48f47d35
      "metadata": {},
      "outputs": [
        {
          "name": "stdout",
          "output_type": "stream",
          "text": [
<<<<<<< HEAD
            "Agrupado por tipo: {'Receita': 3050.0, 'Investimento': 300.0, 'Despesa': -90.0}\n"
          ]
        },
        {
          "ename": "KeyError",
          "evalue": "'data'",
          "output_type": "error",
          "traceback": [
            "\u001b[1;31m---------------------------------------------------------------------------\u001b[0m",
            "\u001b[1;31mKeyError\u001b[0m                                  Traceback (most recent call last)",
            "\u001b[1;32m~\\AppData\\Local\\Temp\\ipykernel_25012\\1658693917.py\u001b[0m in \u001b[0;36m<module>\u001b[1;34m\u001b[0m\n\u001b[0;32m      1\u001b[0m \u001b[0mprint\u001b[0m\u001b[1;33m(\u001b[0m\u001b[1;34m\"Agrupado por tipo:\"\u001b[0m\u001b[1;33m,\u001b[0m \u001b[0magrupar_por\u001b[0m\u001b[1;33m(\u001b[0m\u001b[1;34m\"tipo\"\u001b[0m\u001b[1;33m)\u001b[0m\u001b[1;33m)\u001b[0m\u001b[1;33m\u001b[0m\u001b[1;33m\u001b[0m\u001b[0m\n\u001b[1;32m----> 2\u001b[1;33m \u001b[0mprint\u001b[0m\u001b[1;33m(\u001b[0m\u001b[1;34m\"Agrupado por mês:\"\u001b[0m\u001b[1;33m,\u001b[0m \u001b[0magrupar_por\u001b[0m\u001b[1;33m(\u001b[0m\u001b[1;34m\"mes\"\u001b[0m\u001b[1;33m)\u001b[0m\u001b[1;33m)\u001b[0m\u001b[1;33m\u001b[0m\u001b[1;33m\u001b[0m\u001b[0m\n\u001b[0m\u001b[0;32m      3\u001b[0m \u001b[0mprint\u001b[0m\u001b[1;33m(\u001b[0m\u001b[1;34m\"Agrupado por ano:\"\u001b[0m\u001b[1;33m,\u001b[0m \u001b[0magrupar_por\u001b[0m\u001b[1;33m(\u001b[0m\u001b[1;34m\"ano\"\u001b[0m\u001b[1;33m)\u001b[0m\u001b[1;33m)\u001b[0m\u001b[1;33m\u001b[0m\u001b[1;33m\u001b[0m\u001b[0m\n\u001b[0;32m      4\u001b[0m \u001b[0mprint\u001b[0m\u001b[1;33m(\u001b[0m\u001b[1;34m\"Agrupado por data:\"\u001b[0m\u001b[1;33m,\u001b[0m \u001b[0magrupar_por\u001b[0m\u001b[1;33m(\u001b[0m\u001b[1;34m\"data\"\u001b[0m\u001b[1;33m)\u001b[0m\u001b[1;33m)\u001b[0m\u001b[1;33m\u001b[0m\u001b[1;33m\u001b[0m\u001b[0m\n",
            "\u001b[1;32m~\\AppData\\Local\\Temp\\ipykernel_25012\\1886735123.py\u001b[0m in \u001b[0;36magrupar_por\u001b[1;34m(chave)\u001b[0m\n\u001b[0;32m     21\u001b[0m             \u001b[0mchave_valor\u001b[0m \u001b[1;33m=\u001b[0m \u001b[0mmovimento\u001b[0m\u001b[1;33m[\u001b[0m\u001b[1;34m\"tipo\"\u001b[0m\u001b[1;33m]\u001b[0m\u001b[1;33m\u001b[0m\u001b[1;33m\u001b[0m\u001b[0m\n\u001b[0;32m     22\u001b[0m         \u001b[1;32melif\u001b[0m \u001b[0mchave\u001b[0m \u001b[1;33m==\u001b[0m \u001b[1;34m\"mes\"\u001b[0m\u001b[1;33m:\u001b[0m\u001b[1;33m\u001b[0m\u001b[1;33m\u001b[0m\u001b[0m\n\u001b[1;32m---> 23\u001b[1;33m             \u001b[0mchave_valor\u001b[0m \u001b[1;33m=\u001b[0m \u001b[0mmovimento\u001b[0m\u001b[1;33m[\u001b[0m\u001b[1;34m\"data\"\u001b[0m\u001b[1;33m]\u001b[0m\u001b[1;33m.\u001b[0m\u001b[0msplit\u001b[0m\u001b[1;33m(\u001b[0m\u001b[1;34m\"-\"\u001b[0m\u001b[1;33m)\u001b[0m\u001b[1;33m[\u001b[0m\u001b[1;36m1\u001b[0m\u001b[1;33m]\u001b[0m\u001b[1;33m\u001b[0m\u001b[1;33m\u001b[0m\u001b[0m\n\u001b[0m\u001b[0;32m     24\u001b[0m         \u001b[1;32melif\u001b[0m \u001b[0mchave\u001b[0m \u001b[1;33m==\u001b[0m \u001b[1;34m\"ano\"\u001b[0m\u001b[1;33m:\u001b[0m\u001b[1;33m\u001b[0m\u001b[1;33m\u001b[0m\u001b[0m\n\u001b[0;32m     25\u001b[0m             \u001b[0mchave_valor\u001b[0m \u001b[1;33m=\u001b[0m \u001b[0mmovimento\u001b[0m\u001b[1;33m[\u001b[0m\u001b[1;34m\"data\"\u001b[0m\u001b[1;33m]\u001b[0m\u001b[1;33m.\u001b[0m\u001b[0msplit\u001b[0m\u001b[1;33m(\u001b[0m\u001b[1;34m\"-\"\u001b[0m\u001b[1;33m)\u001b[0m\u001b[1;33m[\u001b[0m\u001b[1;36m0\u001b[0m\u001b[1;33m]\u001b[0m\u001b[1;33m\u001b[0m\u001b[1;33m\u001b[0m\u001b[0m\n",
            "\u001b[1;31mKeyError\u001b[0m: 'data'"
=======
            "Agrupado por tipo: {'Receita': 1700.0, 'Investimento': 400.0, 'Despesa': -90.0}\n",
            "Agrupado por mês: {1: 1260.0, 5: 200.0, 2: 550.0}\n",
            "Agrupado por ano: {2024: 150, 2022: 1110.0, 2023: 750.0}\n",
            "Agrupado por data: {17: 150, 3: 950.0, 1: 1000.0, 2: -90.0}\n"
>>>>>>> a810fd052180eff844ea48ceb6d449ed48f47d35
          ]
        }
      ],
      "source": [
        "print(\"Agrupado por tipo:\", agrupar_por(\"tipo\"))\n",
        "\n",
        "## Não funciona com mês, ano e data\n",
        "print(\"Agrupado por mês:\", agrupar_por(\"mes\"))\n",
        "print(\"Agrupado por ano:\", agrupar_por(\"ano\"))\n",
        "print(\"Agrupado por data:\", agrupar_por(\"data\"))"
      ]
    },
    {
      "attachments": {},
      "cell_type": "markdown",
      "metadata": {},
      "source": [
        "### Consultas por tipo"
      ]
    },
    {
      "cell_type": "code",
<<<<<<< HEAD
      "execution_count": 72,
=======
      "execution_count": 25,
>>>>>>> a810fd052180eff844ea48ceb6d449ed48f47d35
      "metadata": {},
      "outputs": [
        {
          "name": "stdout",
          "output_type": "stream",
          "text": [
<<<<<<< HEAD
            "Pesquisa por tipo Receita: [{'tipo': 'Receita', 'valor': 1500.0, 'dia': 19, 'mes': 1, 'ano': 2024}, {'tipo': 'Receita', 'valor': 1000.0, 'dia': 1, 'mes': 1, 'ano': 2022}, {'tipo': 'Receita', 'valor': 550.0, 'dia': 3, 'mes': 2, 'ano': 2023}]\n",
            "Pesquisa por tipo Despesa: [{'tipo': 'Despesa', 'valor': -90.0, 'dia': 2, 'mes': 1, 'ano': 2022}]\n",
            "Pesquisa por tipo Investimento: [{'tipo': 'Investimento', 'valor': 100, 'dia': 19, 'mes': 1, 'ano': 2024, 'montante': 0.0}, {'tipo': 'Investimento', 'valor': 200.0, 'dia': 3, 'mes': 5, 'ano': 2023, 'montante': -16.571341125616044}]\n",
            "Pesquisa por valor: [{'tipo': 'Investimento', 'valor': 100, 'dia': 19, 'mes': 1, 'ano': 2024, 'montante': 0.0}]\n",
            "Pesquisa por valor: []\n",
            "Pesquisa por data: [{'tipo': 'Receita', 'valor': 1000.0, 'dia': 1, 'mes': 1, 'ano': 2022}]\n",
            "Pesquisa por data: [{'tipo': 'Investimento', 'valor': 200.0, 'dia': 3, 'mes': 5, 'ano': 2023, 'montante': -16.571341125616044}]\n"
=======
            "Pesquisa por tipo Receita: [{'tipo': 'Receita', 'valor': 150, 'dia': 17, 'mes': 1, 'ano': 2024}, {'tipo': 'Receita', 'valor': 1000.0, 'dia': 1, 'mes': 1, 'ano': 2022}, {'tipo': 'Receita', 'valor': 550.0, 'dia': 3, 'mes': 2, 'ano': 2023}]\n",
            "Pesquisa por tipo Despesa: [{'tipo': 'Despesa', 'valor': -90.0, 'dia': 2, 'mes': 1, 'ano': 2022}]\n",
            "Pesquisa por tipo Investimento: [{'tipo': 'Investimento', 'valor': 200.0, 'dia': 3, 'mes': 1, 'ano': 2022, 'montante': 53.946929706382946}, {'tipo': 'Investimento', 'valor': 200.0, 'dia': 3, 'mes': 5, 'ano': 2023, 'montante': 16.571341125616044}]\n",
            "Pesquisa por valor: []\n",
            "Pesquisa por valor: []\n",
            "Pesquisa por data: [{'tipo': 'Receita', 'valor': 1000.0, 'dia': 1, 'mes': 1, 'ano': 2022}]\n",
            "Pesquisa por data: [{'tipo': 'Investimento', 'valor': 200.0, 'dia': 3, 'mes': 5, 'ano': 2023, 'montante': 16.571341125616044}]\n"
>>>>>>> a810fd052180eff844ea48ceb6d449ed48f47d35
          ]
        }
      ],
      "source": [
        "print(\"Pesquisa por tipo Receita:\", ler_registros(\"tipo\",'Receita'))\n",
        "print(\"Pesquisa por tipo Despesa:\", ler_registros(\"tipo\",'Despesa'))\n",
        "print(\"Pesquisa por tipo Investimento:\", ler_registros(\"tipo\",'Investimento'))\n",
        "\n",
        "print(\"Pesquisa por valor:\", ler_registros(\"valor\",100))\n",
        "print(\"Pesquisa por valor:\", ler_registros(\"valor\",-50))\n",
        "\n",
        "print(\"Pesquisa por data:\", ler_registros(\"data\",\"2022-01-01\"))\n",
        "print(\"Pesquisa por data:\", ler_registros(\"data\",\"2023-05-03\"))"
      ]
    },
    {
      "cell_type": "markdown",
      "metadata": {},
      "source": [
        "# Testes com interação com o usuário"
      ]
    },
    {
      "cell_type": "code",
      "execution_count": null,
      "metadata": {},
      "outputs": [],
      "source": []
    }
  ],
  "metadata": {
    "colab": {
      "private_outputs": true,
      "provenance": []
    },
    "kernelspec": {
      "display_name": "Python 3",
      "language": "python",
      "name": "python3"
    },
    "language_info": {
      "codemirror_mode": {
        "name": "ipython",
        "version": 3
      },
      "file_extension": ".py",
      "mimetype": "text/x-python",
      "name": "python",
      "nbconvert_exporter": "python",
      "pygments_lexer": "ipython3",
<<<<<<< HEAD
      "version": "3.9.13"
=======
      "version": "3.11.1 (tags/v3.11.1:a7a450f, Dec  6 2022, 19:58:39) [MSC v.1934 64 bit (AMD64)]"
>>>>>>> a810fd052180eff844ea48ceb6d449ed48f47d35
    },
    "vscode": {
      "interpreter": {
        "hash": "4c27683f14e0d5aec8edf7b0ff88e12954114d98695ba1c4a8788d3d663bea55"
      }
    }
  },
  "nbformat": 4,
  "nbformat_minor": 0
}
